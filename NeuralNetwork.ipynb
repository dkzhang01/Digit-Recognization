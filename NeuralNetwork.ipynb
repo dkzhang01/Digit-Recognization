{
 "cells": [
  {
   "cell_type": "code",
   "execution_count": null,
   "metadata": {},
   "outputs": [],
   "source": []
  }
 ],
 "metadata": {
  "kernelspec": {
   "display_name": "Python 3",
   "language": "python",
   "name": "python3"
  },
  "language_info": {
   "name": "python",
   "version": "3.10.1"
  },
  "orig_nbformat": 4,
  "vscode": {
   "interpreter": {
    "hash": "1ef9cdff63a1f3e96b36b304622af8bf5927a22ec75d46cd5f79ee4c1eda748a"
   }
  }
 },
 "nbformat": 4,
 "nbformat_minor": 2
}
